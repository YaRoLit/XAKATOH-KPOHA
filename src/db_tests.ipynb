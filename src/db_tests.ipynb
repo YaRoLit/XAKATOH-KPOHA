{
 "cells": [
  {
   "cell_type": "code",
   "execution_count": 1,
   "metadata": {},
   "outputs": [],
   "source": [
    "import scheduler"
   ]
  },
  {
   "cell_type": "code",
   "execution_count": 2,
   "metadata": {},
   "outputs": [],
   "source": [
    "sc = scheduler.Scheduler()"
   ]
  },
  {
   "cell_type": "code",
   "execution_count": 3,
   "metadata": {},
   "outputs": [
    {
     "data": {
      "text/html": [
       "<div>\n",
       "<style scoped>\n",
       "    .dataframe tbody tr th:only-of-type {\n",
       "        vertical-align: middle;\n",
       "    }\n",
       "\n",
       "    .dataframe tbody tr th {\n",
       "        vertical-align: top;\n",
       "    }\n",
       "\n",
       "    .dataframe thead th {\n",
       "        text-align: right;\n",
       "    }\n",
       "</style>\n",
       "<table border=\"1\" class=\"dataframe\">\n",
       "  <thead>\n",
       "    <tr style=\"text-align: right;\">\n",
       "      <th></th>\n",
       "      <th>datetime</th>\n",
       "      <th>long</th>\n",
       "      <th>event_type</th>\n",
       "      <th>event_id</th>\n",
       "      <th>city</th>\n",
       "      <th>place</th>\n",
       "      <th>tags</th>\n",
       "      <th>event_name</th>\n",
       "      <th>description</th>\n",
       "      <th>creator</th>\n",
       "      <th>admin</th>\n",
       "      <th>speakers</th>\n",
       "      <th>guests</th>\n",
       "    </tr>\n",
       "  </thead>\n",
       "  <tbody>\n",
       "    <tr>\n",
       "      <th>0</th>\n",
       "      <td>2024-09-21 10:50:13.546523</td>\n",
       "      <td>30</td>\n",
       "      <td>открытая встреча</td>\n",
       "      <td>1</td>\n",
       "      <td>Новосибирск</td>\n",
       "      <td>комната для переговоров</td>\n",
       "      <td>#it#money#300-kilobacks-sec</td>\n",
       "      <td>Споры по поводу дизайна бота</td>\n",
       "      <td>Обсуждаем дизайн кнопочек бота</td>\n",
       "      <td>482402</td>\n",
       "      <td>1</td>\n",
       "      <td>#482402</td>\n",
       "      <td>all</td>\n",
       "    </tr>\n",
       "  </tbody>\n",
       "</table>\n",
       "</div>"
      ],
      "text/plain": [
       "                    datetime  long        event_type  event_id         city  \\\n",
       "0 2024-09-21 10:50:13.546523    30  открытая встреча         1  Новосибирск   \n",
       "\n",
       "                     place                         tags  \\\n",
       "0  комната для переговоров  #it#money#300-kilobacks-sec   \n",
       "\n",
       "                     event_name                     description  creator  \\\n",
       "0  Споры по поводу дизайна бота  Обсуждаем дизайн кнопочек бота   482402   \n",
       "\n",
       "   admin speakers guests  \n",
       "0      1  #482402    all  "
      ]
     },
     "execution_count": 3,
     "metadata": {},
     "output_type": "execute_result"
    }
   ],
   "source": [
    "sc.show_day(2024, 9, 21)"
   ]
  },
  {
   "cell_type": "code",
   "execution_count": 4,
   "metadata": {},
   "outputs": [],
   "source": [
    "import datetime"
   ]
  },
  {
   "cell_type": "code",
   "execution_count": 9,
   "metadata": {},
   "outputs": [
    {
     "data": {
      "text/html": [
       "<div>\n",
       "<style scoped>\n",
       "    .dataframe tbody tr th:only-of-type {\n",
       "        vertical-align: middle;\n",
       "    }\n",
       "\n",
       "    .dataframe tbody tr th {\n",
       "        vertical-align: top;\n",
       "    }\n",
       "\n",
       "    .dataframe thead th {\n",
       "        text-align: right;\n",
       "    }\n",
       "</style>\n",
       "<table border=\"1\" class=\"dataframe\">\n",
       "  <thead>\n",
       "    <tr style=\"text-align: right;\">\n",
       "      <th></th>\n",
       "      <th>datetime</th>\n",
       "      <th>long</th>\n",
       "      <th>place</th>\n",
       "      <th>creator</th>\n",
       "      <th>speaker</th>\n",
       "      <th>listeners</th>\n",
       "    </tr>\n",
       "  </thead>\n",
       "  <tbody>\n",
       "    <tr>\n",
       "      <th>0</th>\n",
       "      <td>2024-09-21 13:00:00</td>\n",
       "      <td>60</td>\n",
       "      <td>SiniyIney</td>\n",
       "      <td>dfgd</td>\n",
       "      <td>4gebgdgf</td>\n",
       "      <td>sertd</td>\n",
       "    </tr>\n",
       "    <tr>\n",
       "      <th>1</th>\n",
       "      <td>2024-09-21 13:00:00</td>\n",
       "      <td>60</td>\n",
       "      <td>SiniyIney</td>\n",
       "      <td>dfgd</td>\n",
       "      <td>4gebgdgf</td>\n",
       "      <td>sertd</td>\n",
       "    </tr>\n",
       "  </tbody>\n",
       "</table>\n",
       "</div>"
      ],
      "text/plain": [
       "             datetime  long      place creator   speaker listeners\n",
       "0 2024-09-21 13:00:00    60  SiniyIney    dfgd  4gebgdgf     sertd\n",
       "1 2024-09-21 13:00:00    60  SiniyIney    dfgd  4gebgdgf     sertd"
      ]
     },
     "execution_count": 9,
     "metadata": {},
     "output_type": "execute_result"
    }
   ],
   "source": [
    "sc.check_event('SiniyIney', datetime.datetime(year=2024, month=9, day=21, hour=12, minute=00), 90)"
   ]
  }
 ],
 "metadata": {
  "kernelspec": {
   "display_name": "Python 3",
   "language": "python",
   "name": "python3"
  },
  "language_info": {
   "codemirror_mode": {
    "name": "ipython",
    "version": 3
   },
   "file_extension": ".py",
   "mimetype": "text/x-python",
   "name": "python",
   "nbconvert_exporter": "python",
   "pygments_lexer": "ipython3",
   "version": "3.11.4"
  }
 },
 "nbformat": 4,
 "nbformat_minor": 2
}
