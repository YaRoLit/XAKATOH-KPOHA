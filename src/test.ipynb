{
 "cells": [
  {
   "cell_type": "code",
   "execution_count": 1,
   "metadata": {},
   "outputs": [],
   "source": [
    "import scheduler"
   ]
  },
  {
   "cell_type": "code",
   "execution_count": 2,
   "metadata": {},
   "outputs": [],
   "source": [
    "sc = scheduler.Scheduler()"
   ]
  },
  {
   "cell_type": "code",
   "execution_count": 3,
   "metadata": {},
   "outputs": [
    {
     "data": {
      "text/html": [
       "<div>\n",
       "<style scoped>\n",
       "    .dataframe tbody tr th:only-of-type {\n",
       "        vertical-align: middle;\n",
       "    }\n",
       "\n",
       "    .dataframe tbody tr th {\n",
       "        vertical-align: top;\n",
       "    }\n",
       "\n",
       "    .dataframe thead th {\n",
       "        text-align: right;\n",
       "    }\n",
       "</style>\n",
       "<table border=\"1\" class=\"dataframe\">\n",
       "  <thead>\n",
       "    <tr style=\"text-align: right;\">\n",
       "      <th></th>\n",
       "      <th>datetime</th>\n",
       "      <th>long</th>\n",
       "      <th>place</th>\n",
       "      <th>creator</th>\n",
       "      <th>speaker</th>\n",
       "      <th>listeners</th>\n",
       "    </tr>\n",
       "  </thead>\n",
       "  <tbody>\n",
       "    <tr>\n",
       "      <th>0</th>\n",
       "      <td>2024-09-21 13:00:00</td>\n",
       "      <td>60</td>\n",
       "      <td>SiniyIney</td>\n",
       "      <td>dfgd</td>\n",
       "      <td>4gebgdgf</td>\n",
       "      <td>sertd</td>\n",
       "    </tr>\n",
       "    <tr>\n",
       "      <th>1</th>\n",
       "      <td>2024-09-21 13:00:00</td>\n",
       "      <td>60</td>\n",
       "      <td>SiniyIney</td>\n",
       "      <td>dfgd</td>\n",
       "      <td>4gebgdgf</td>\n",
       "      <td>sertd</td>\n",
       "    </tr>\n",
       "  </tbody>\n",
       "</table>\n",
       "</div>"
      ],
      "text/plain": [
       "             datetime  long      place creator   speaker listeners\n",
       "0 2024-09-21 13:00:00    60  SiniyIney    dfgd  4gebgdgf     sertd\n",
       "1 2024-09-21 13:00:00    60  SiniyIney    dfgd  4gebgdgf     sertd"
      ]
     },
     "execution_count": 3,
     "metadata": {},
     "output_type": "execute_result"
    }
   ],
   "source": [
    "sc.show_day(2024, 9, 21)"
   ]
  },
  {
   "cell_type": "code",
   "execution_count": 4,
   "metadata": {},
   "outputs": [],
   "source": [
    "import datetime"
   ]
  },
  {
   "cell_type": "code",
   "execution_count": 7,
   "metadata": {},
   "outputs": [
    {
     "data": {
      "text/html": [
       "<div>\n",
       "<style scoped>\n",
       "    .dataframe tbody tr th:only-of-type {\n",
       "        vertical-align: middle;\n",
       "    }\n",
       "\n",
       "    .dataframe tbody tr th {\n",
       "        vertical-align: top;\n",
       "    }\n",
       "\n",
       "    .dataframe thead th {\n",
       "        text-align: right;\n",
       "    }\n",
       "</style>\n",
       "<table border=\"1\" class=\"dataframe\">\n",
       "  <thead>\n",
       "    <tr style=\"text-align: right;\">\n",
       "      <th></th>\n",
       "      <th>datetime</th>\n",
       "      <th>long</th>\n",
       "      <th>place</th>\n",
       "      <th>creator</th>\n",
       "      <th>speaker</th>\n",
       "      <th>listeners</th>\n",
       "    </tr>\n",
       "  </thead>\n",
       "  <tbody>\n",
       "    <tr>\n",
       "      <th>0</th>\n",
       "      <td>2024-09-21 13:00:00</td>\n",
       "      <td>60</td>\n",
       "      <td>SiniyIney</td>\n",
       "      <td>dfgd</td>\n",
       "      <td>4gebgdgf</td>\n",
       "      <td>sertd</td>\n",
       "    </tr>\n",
       "    <tr>\n",
       "      <th>1</th>\n",
       "      <td>2024-09-21 13:00:00</td>\n",
       "      <td>60</td>\n",
       "      <td>SiniyIney</td>\n",
       "      <td>dfgd</td>\n",
       "      <td>4gebgdgf</td>\n",
       "      <td>sertd</td>\n",
       "    </tr>\n",
       "  </tbody>\n",
       "</table>\n",
       "</div>"
      ],
      "text/plain": [
       "             datetime  long      place creator   speaker listeners\n",
       "0 2024-09-21 13:00:00    60  SiniyIney    dfgd  4gebgdgf     sertd\n",
       "1 2024-09-21 13:00:00    60  SiniyIney    dfgd  4gebgdgf     sertd"
      ]
     },
     "execution_count": 7,
     "metadata": {},
     "output_type": "execute_result"
    }
   ],
   "source": [
    "sc.check_event('SiniyIney', datetime.datetime(year=2024, month=9, day=21, hour=12, minute=00), 90)"
   ]
  }
 ],
 "metadata": {
  "kernelspec": {
   "display_name": "Python 3",
   "language": "python",
   "name": "python3"
  },
  "language_info": {
   "codemirror_mode": {
    "name": "ipython",
    "version": 3
   },
   "file_extension": ".py",
   "mimetype": "text/x-python",
   "name": "python",
   "nbconvert_exporter": "python",
   "pygments_lexer": "ipython3",
   "version": "3.11.4"
  }
 },
 "nbformat": 4,
 "nbformat_minor": 2
}
